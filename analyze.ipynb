{
  "nbformat": 4,
  "nbformat_minor": 0,
  "metadata": {
    "colab": {
      "provenance": [],
      "authorship_tag": "ABX9TyPDpmw3QCe70uAhW6jIQNKb"
    },
    "kernelspec": {
      "name": "python3",
      "display_name": "Python 3"
    },
    "language_info": {
      "name": "python"
    }
  },
  "cells": [
    {
      "cell_type": "markdown",
      "source": [
        "# Set up\n",
        "This section should be interacted with. Use `data_path` to designate the folder where the OpenBARR data is. This folder needs to be formatted beforehand - take a look at the **README** or see `/sample_data/original_data` for an example. Change `output_path` to a folder where you want the graphs and the data used to make them.\n",
        "\n",
        "Here, you will also specify the experimental conditions in `conditions` and days in `days`. This will help the program navigate the files and batch process.\n"
      ],
      "metadata": {
        "id": "-Mlw5rlR8FiT"
      }
    },
    {
      "cell_type": "code",
      "execution_count": 1,
      "metadata": {
        "id": "Amy6XHoNeakL",
        "colab": {
          "base_uri": "https://localhost:8080/"
        },
        "outputId": "a99554ae-544e-4d9d-d75e-009acd7d44b9"
      },
      "outputs": [
        {
          "output_type": "stream",
          "name": "stdout",
          "text": [
            "Mounted at /content/drive\n"
          ]
        }
      ],
      "source": [
        "# connect to google drive\n",
        "from google.colab import drive\n",
        "drive.mount('/content/drive')\n",
        "\n",
        "# import packages we need for analysis and graphing\n",
        "import os\n",
        "import numpy as np\n",
        "import pandas as pd\n",
        "\n",
        "# specify where the data is - this should be changed\n",
        "data_path = '/content/drive/MyDrive/0 Revamp/sample_data/original_data'\n",
        "output_path = '/content/drive/MyDrive/0 Revamp/sample_data/output'\n",
        "\n",
        "# specify experimental conditions - this should be changed\n",
        "conditions = ['3EtOH', '25EtOH', '50EtOH', '75EtOH']\n",
        "days = ['D1', 'D2', 'D3']"
      ]
    },
    {
      "cell_type": "markdown",
      "source": [
        "# Preprocess the data\n",
        "We read in and format the OpenBARR data to be more understandable and remove the first second of data in case of initial mistracking."
      ],
      "metadata": {
        "id": "4b3x6oRmH-G2"
      }
    },
    {
      "cell_type": "code",
      "source": [
        "def read_raw(file_path):\n",
        "  \"\"\"Read an OpenBARR file.\n",
        "\n",
        "  Reads a tab-delimited OpenBARR file and specifies the column names.\n",
        "\n",
        "  Parameters\n",
        "  ----------\n",
        "  file_path : str\n",
        "    The path to the OpenBARR file.\n",
        "\n",
        "  Returns\n",
        "  -------\n",
        "  pandas.DataFrame\n",
        "    A DataFrame containing the data from the OpenBARR file.\n",
        "  \"\"\"\n",
        "  return pd.read_csv(file_path, sep='\\t', header=None,\n",
        "                     names=['time', 'x', 'y', 'in', 'entry', 'exit'])\n",
        "\n",
        "def adjust_y(df):\n",
        "  \"\"\"Adjust the y-coordinates of an OpenBARR dataframe.\n",
        "\n",
        "  Adjusts the y-coordinates of an OpenBARR dataframe relative to the border of\n",
        "  ROSA and RONSA. Where y >= 0 indicates how far animal is in ROSA while y < 0\n",
        "  indicate how far animal is in RONSA. This adjustment makes the data more\n",
        "  intuitive and easier to analyze.\n",
        "\n",
        "  Parameters\n",
        "  ----------\n",
        "  df : pandas.DataFrame\n",
        "    A DataFrame containing the data from the OpenBARR file.\n",
        "\n",
        "  Notes\n",
        "  -----\n",
        "  This works under the assumption, in short, that the OpenBARR is set up in the\n",
        "  exact same way. Common problems could be flipped ROSA/RONSA causing RONSA to\n",
        "  be >= 0 and ROSA <0 and camera height differences could change the arbitrary\n",
        "  coordinates, affecting the adjustment for a fly never entering ROSA.\n",
        "  \"\"\"\n",
        "  border = df[df['entry'] == 1]['y']  # get y-coords when fly initially enters ROSA\n",
        "  if len(border) > 0:  # if fly was ever in ROSA\n",
        "    df.loc[:, 'y'] = max(border) - df['y']  # the adjustment\n",
        "  else:  # if the fly never entered ROSA,\n",
        "    df.loc[:, 'y'] = 235 - df['y']  # use upper-bound estimate - see notes\n",
        "\n",
        "def preprocess(file_path):\n",
        "  \"\"\"Preprocess an OpenBARR file.\n",
        "\n",
        "  Reads an OpenBARR file, removes the first second of data, and adjusts the\n",
        "  y-coordinates relative to the border of ROSA and RONSA.\n",
        "\n",
        "  Parameters\n",
        "  ----------\n",
        "  file_path : str\n",
        "    The path to the OpenBARR file.\n",
        "\n",
        "  Returns\n",
        "  -------\n",
        "  pandas.DataFrame\n",
        "    A DataFrame containing the preprocessed data from the OpenBARR file.\n",
        "  \"\"\"\n",
        "  df = read_raw(file_path)\n",
        "  df = df[df['time'] >= 1]\n",
        "  adjust_y(df)\n",
        "  return df\n",
        "\n",
        "# we simply read in all the data and put them into a single dataframe\n",
        "combined_df = None\n",
        "for condition in conditions:\n",
        "  for day in days:\n",
        "    temp_path = os.path.join(data_path, condition, day)\n",
        "    print('Processing files in', temp_path)\n",
        "    for a_file in os.listdir(temp_path):\n",
        "      temp_df = preprocess(os.path.join(temp_path, a_file))\n",
        "      temp_df.loc[:, 'id'] = a_file  # label the individual openbarr df\n",
        "      if combined_df is None:\n",
        "        combined_df = temp_df.copy()\n",
        "      else:\n",
        "        combined_df = pd.concat([combined_df, temp_df], ignore_index=True)\n",
        "    print(len(os.listdir(temp_path)), 'files processed\\n')"
      ],
      "metadata": {
        "id": "u0WU5QRaI1qf"
      },
      "execution_count": null,
      "outputs": []
    },
    {
      "cell_type": "markdown",
      "source": [
        "# Graphing Time"
      ],
      "metadata": {
        "id": "un-5S2P6O34j"
      }
    }
  ]
}